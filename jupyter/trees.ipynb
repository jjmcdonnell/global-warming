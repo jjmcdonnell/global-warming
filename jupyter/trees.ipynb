{
 "cells": [
  {
   "cell_type": "markdown",
   "metadata": {},
   "source": [
    "\n",
    "# <span style=\"color:rgb(213,80,0)\">Common Sense Questioning (Trust but Verify) and Unknown Modeling Variables</span>\n",
    "\n",
    "***By John McDonnell***\n",
    "\n",
    "\n",
    "***What about the trees? Signifcant lapses in data regarding trees proves to me that NASA's base RCP models are entirely inaccurate.***\n",
    "\n",
    "## Introduction\n",
    "\n",
    "In the RCP models how are additional known factors taken into considertion like subcylicl events such as PHOTOSYNTHESIS \\- absorbtion of carbon, light/engery by the vegetation such as trees?\n",
    "\n",
    "## How many estimated trees are there on Earth?  Estimate ~ 3 TRILLION trees  ~\n",
    "\n",
    "According to three sources:\n",
    "\n",
    "\n",
    "[https://environment.yale.edu/news/article/Yale\\-study\\-reveals\\-there\\-are\\-3\\-trillion\\-trees\\-on\\-earth](https://environment.yale.edu/news/article/Yale-study-reveals-there-are-3-trillion-trees-on-earth)\n",
    "\n",
    "\n",
    "[https://ourworldindata.org/grapher/number\\-of\\-trees](https://ourworldindata.org/grapher/number-of-trees)\n",
    "\n",
    "\n",
    "[https://worldpopulationreview.com/geography/how\\-many\\-trees\\-are\\-in\\-the\\-world](https://worldpopulationreview.com/geography/how-many-trees-are-in-the-world)\n",
    "\n",
    "-  Losing 10 Billion a year = 100 Billion every ten years; 1 Trillion every century;\n",
    "-  *Yet also states: There are an estimated 3.04 trillion trees in the world. That’s about 400 for every human. This figure is way up from the estimate of 400 billion trees that was made just a few years ago. While this may seem like an unimaginable amount, 12,000 years ago the world actually had around twice as many, a whopping 6 trillion trees. Unfortunately, due to logging and agriculture, the Earth is now losing close to 10 billion trees each year.*\n",
    "-  *Calculating a rate of change from this source would be unreliable. Would need more data on tree depopulation etc.*\n",
    "#### *\\*\\* With that these calcuations are based soley on the functions of existing tree estimates \\*\\**\n",
    "## How much total carbon do these 3 trillion trees remove from the atmosphere via photosynthesis?\n",
    "\n",
    "First we'd have to throughoutly understand global tree population demographics \\- which like most data is lacking significantly outside nations that have some sort of Forestry agency. In the United states however its estimated that there are 865 different specifies [https://www.treehugger.com/ten\\-most\\-common\\-trees\\-united\\-states\\-3971258.](https://www.treehugger.com/ten-most-common-trees-united-states-3971258.) It's noted that the silver maple is a fast growing tree that can consume 11,000 pounds of CO2 over a span of 25 years. [https://treeplantation.com/carbon\\-trees.html\\#:~:text=Over%2025%20years%20it%20can,absorb%2011%2C000%20pounds%20of%20carbon%20dioxide.](https://treeplantation.com/carbon-trees.html#:~:text=Over%2025%20years%20it%20can,absorb%2011%2C000%20pounds%20of%20carbon%20dioxide.) There are a variety of others considered good carbon reducers. However since even in the states there's very little break down of population estimates to get a good accurate formula  we just simply have to use extremely broad \\- likely inaccurate details. However I can simply use broadly available details such as the average yearly consumption of carbon by trees found here: [https://8billiontrees.com/trees/how\\-much\\-co2\\-does\\-a\\-tree\\-absorb/](https://8billiontrees.com/trees/how-much-co2-does-a-tree-absorb/) \"It is estimated that the average tree absorbs around 25 kg of carbon dioxide every year. This is based on the estimation that a single cubic meter of wood can absorb almost a ton of carbon dioxide.\" Also here a second source states: [https://climate.selectra.com/en/news/co2\\-tree](https://climate.selectra.com/en/news/co2-tree)  \"Although the carbon absorption capacity can vary, it is generally considered that a tree can store about **167 kg of CO2 per year**.\"\n",
    "\n",
    "\n",
    "So we have many sources that are entirely unsure and two estimates \\- so we can simply use the lowest estimate sticking to the lowest bound, thus we will say that each of the three trillion trees could potentially consume 25 kg of CO2 every year \\- so potentially we had a total tree CO2 absorption of around : $25\\;\\textrm{kg}\\cdot 3{\\textrm{x10}}^{12} =7\\ldotp 5\\;{\\textrm{x10}}^{13} \\;\\textrm{kg}$ or 75,000,000,000,000 kg of carbon per year or 75 Trillion kg / year.\n",
    "\n",
    "## How much carbon is depositoed into the atmospere by humans?\n",
    "\n",
    "According to nasa and our world in data (same source): [https://science.nasa.gov/science\\-research/earth\\-science/climate\\-science/how\\-much\\-carbon\\-dioxide\\-are\\-we\\-emitting/](https://science.nasa.gov/science-research/earth-science/climate-science/how-much-carbon-dioxide-are-we-emitting/) human activity admits appoximately 35 billion metric tons of CO2. We need to first convert this metric tons to kilograms given that 1 metric ton = 1000 kilograms thus making 35 billion metric tons equal to $3\\ldotp 5{\\textrm{x10}}^{11}$ or approximately 350,000,000,000 Billion kg / year.\n",
    "\n",
    "## **What does this mean?**\n",
    "\n",
    "It means carbon is a negliable human induced factor in climate change since we have a larger negation factor than the contribution to the natural system meaning that carbon absorption of trees vs human contribution would result in :\n",
    "\n",
    "\n",
    "$$\\left(7\\ldotp 5{\\textrm{x10}}^{13} \\right)-\\left(3\\ldotp 5{\\textrm{x10}}^{11} \\right)=7\\ldotp 465{\\textrm{x10}}^{13}$$\n",
    "\n",
    "Leaving us with a net\\-postive absorbtion value that would infact resort to the reduction of the existing natural atmospheric balance. Thus our existing tree population is reducing the planet's CO2 by our contribution and then some.  And given I took the low bound estimates on average CO2 per tree these numbers could in fact be substantially higher.\n",
    "\n",
    ""
   ]
  }
 ],
 "metadata": {
  "kernelspec": {
   "display_name": "MATLAB (matlabkernel)",
   "language": "matlab",
   "name": "matlab"
  },
  "language_info": {
   "file_extension": ".m",
   "mimetype": "text/matlab",
   "name": "matlab",
   "nbconvert_exporter": "matlab",
   "pygments_lexer": "matlab",
   "version": "24.1.0.2603908"
  }
 },
 "nbformat": 4,
 "nbformat_minor": 4
}